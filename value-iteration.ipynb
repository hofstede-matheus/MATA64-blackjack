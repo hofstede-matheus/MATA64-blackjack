{
 "cells": [
  {
   "cell_type": "code",
   "execution_count": 472,
   "metadata": {},
   "outputs": [],
   "source": [
    "import numpy as np"
   ]
  },
  {
   "cell_type": "code",
   "execution_count": 473,
   "metadata": {},
   "outputs": [],
   "source": [
    "transition = np.zeros((21 + 1, 2, 21 + 1))\n",
    "\n",
    "for state in range(21):\n",
    "    transition[state, 0, 21] = 1\n",
    "    posible_states = min(21 - state, 11)\n",
    "    if (state > 21 - 11):\n",
    "        transition[state, 1, 21] = (11 - posible_states) / 11\n",
    "    for next_state in range(state + 1, state + posible_states + 1):\n",
    "        transition[state, 1, next_state] = 1 / posible_states\n",
    "\n",
    "# transition"
   ]
  },
  {
   "cell_type": "code",
   "execution_count": 474,
   "metadata": {},
   "outputs": [],
   "source": [
    "rewards = np.zeros((21 + 1, 2, 21 + 1))\n",
    "\n",
    "for state in range(21):    \n",
    "    rewards[state, 0, 21] = state\n",
    "\n",
    "# rewards"
   ]
  },
  {
   "cell_type": "code",
   "execution_count": 475,
   "metadata": {},
   "outputs": [],
   "source": [
    "import pandas as pd\n",
    "\n",
    "pd.set_option(\"display.max_columns\", None)\n",
    "pd.set_option('display.max_colwidth', None)\n",
    "pd.set_option(\"display.expand_frame_repr\", False)\n",
    "\n",
    "import matplotlib.pyplot as plt\n",
    "\n",
    "class ValueIteration:\n",
    "    def __init__(self, reward_function, transition_model, gamma):\n",
    "        self.num_states = transition_model.shape[0]\n",
    "        self.num_actions = transition_model.shape[1]\n",
    "        self.reward_function = np.nan_to_num(reward_function)\n",
    "        self.transition_model = transition_model\n",
    "        self.gamma = gamma\n",
    "        self.q_values = np.zeros((self.num_states, self.num_actions))\n",
    "        self.policy = None\n",
    "\n",
    "    def one_iteration(self):\n",
    "        delta = 0\n",
    "        for s in range(self.num_states):\n",
    "            temp = max(self.q_values[s])\n",
    "            for a in range(self.num_actions):\n",
    "                p = self.transition_model[s, a]\n",
    "                v_state = np.zeros(self.num_states)\n",
    "                for n in range(len(p)):\n",
    "                    v_state[n] = p[n] * (\n",
    "                        self.reward_function[s, a, n] + self.gamma * max(self.q_values[n]))\n",
    "                self.q_values[s, a] = np.sum(v_state)\n",
    "            delta = max(delta, abs(temp - max(self.q_values[s])))\n",
    "        return delta\n",
    "\n",
    "    def get_policy(self):\n",
    "        pi = np.ones(self.num_states, dtype=np.int8) * -1\n",
    "        for s in range(self.num_states):\n",
    "            pi[s] = np.argmax(self.q_values[s])\n",
    "        return pi\n",
    "\n",
    "    def train(self, tol=1e-3, plot=True):\n",
    "        epoch = 0\n",
    "        delta = self.one_iteration()\n",
    "        delta_history = [delta]\n",
    "        while delta > tol:\n",
    "            epoch += 1\n",
    "            delta = self.one_iteration()\n",
    "            delta_history.append(delta)\n",
    "            if delta < tol:\n",
    "                break\n",
    "            \n",
    "        self.policy = self.get_policy()\n",
    "\n",
    "        print(f'Número de iterações: {len(delta_history)}')\n",
    "        print(f'Deltas = {delta_history}')\n",
    "\n",
    "        df = pd.DataFrame([self.policy], index=['\\u03C0*'])\n",
    "        display(df)\n",
    "\n",
    "        if plot is True:\n",
    "            _, ax = plt.subplots(1, 1, figsize=(3, 2), dpi=200)\n",
    "            ax.plot(np.arange(len(delta_history)) + 1, delta_history, marker='o', markersize=4,\n",
    "                    alpha=0.7, color='#2ca02c', label=r'$\\gamma= $' + f'{self.gamma}')\n",
    "            ax.set_xlabel('Iterações')\n",
    "            ax.set_ylabel('Delta')\n",
    "            ax.legend()\n",
    "            plt.tight_layout()\n",
    "            plt.show()"
   ]
  },
  {
   "cell_type": "code",
   "execution_count": 476,
   "metadata": {},
   "outputs": [
    {
     "name": "stdout",
     "output_type": "stream",
     "text": [
      "Número de iterações: 8\n",
      "Deltas = [20.0, 5.4, 3.987966942148761, 1.548841256574006, 0.3666922239771875, 0.05985500679520683, 0.007142707386346814, 0.00064261696618928]\n"
     ]
    },
    {
     "data": {
      "text/html": [
       "<div>\n",
       "<style scoped>\n",
       "    .dataframe tbody tr th:only-of-type {\n",
       "        vertical-align: middle;\n",
       "    }\n",
       "\n",
       "    .dataframe tbody tr th {\n",
       "        vertical-align: top;\n",
       "    }\n",
       "\n",
       "    .dataframe thead th {\n",
       "        text-align: right;\n",
       "    }\n",
       "</style>\n",
       "<table border=\"1\" class=\"dataframe\">\n",
       "  <thead>\n",
       "    <tr style=\"text-align: right;\">\n",
       "      <th></th>\n",
       "      <th>0</th>\n",
       "      <th>1</th>\n",
       "      <th>2</th>\n",
       "      <th>3</th>\n",
       "      <th>4</th>\n",
       "      <th>5</th>\n",
       "      <th>6</th>\n",
       "      <th>7</th>\n",
       "      <th>8</th>\n",
       "      <th>9</th>\n",
       "      <th>10</th>\n",
       "      <th>11</th>\n",
       "      <th>12</th>\n",
       "      <th>13</th>\n",
       "      <th>14</th>\n",
       "      <th>15</th>\n",
       "      <th>16</th>\n",
       "      <th>17</th>\n",
       "      <th>18</th>\n",
       "      <th>19</th>\n",
       "      <th>20</th>\n",
       "      <th>21</th>\n",
       "    </tr>\n",
       "  </thead>\n",
       "  <tbody>\n",
       "    <tr>\n",
       "      <th>π*</th>\n",
       "      <td>1</td>\n",
       "      <td>1</td>\n",
       "      <td>1</td>\n",
       "      <td>1</td>\n",
       "      <td>1</td>\n",
       "      <td>1</td>\n",
       "      <td>1</td>\n",
       "      <td>1</td>\n",
       "      <td>1</td>\n",
       "      <td>1</td>\n",
       "      <td>1</td>\n",
       "      <td>1</td>\n",
       "      <td>1</td>\n",
       "      <td>1</td>\n",
       "      <td>0</td>\n",
       "      <td>0</td>\n",
       "      <td>0</td>\n",
       "      <td>0</td>\n",
       "      <td>0</td>\n",
       "      <td>0</td>\n",
       "      <td>0</td>\n",
       "      <td>0</td>\n",
       "    </tr>\n",
       "  </tbody>\n",
       "</table>\n",
       "</div>"
      ],
      "text/plain": [
       "    0   1   2   3   4   5   6   7   8   9   10  11  12  13  14  15  16  17  18  19  20  21\n",
       "π*   1   1   1   1   1   1   1   1   1   1   1   1   1   1   0   0   0   0   0   0   0   0"
      ]
     },
     "metadata": {},
     "output_type": "display_data"
    },
    {
     "data": {
      "image/png": "[encoded data removed]",
      "text/plain": [
       "<Figure size 600x400 with 1 Axes>"
      ]
     },
     "metadata": {},
     "output_type": "display_data"
    }
   ],
   "source": [
    "solver = ValueIteration(rewards, transition, gamma=0.9)\n",
    "solver.train()"
   ]
  }
 ],
 "metadata": {
  "kernelspec": {
   "display_name": "Python 3.9.12 64-bit",
   "language": "python",
   "name": "python3"
  },
  "language_info": {
   "codemirror_mode": {
    "name": "ipython",
    "version": 3
   },
   "file_extension": ".py",
   "mimetype": "text/x-python",
   "name": "python",
   "nbconvert_exporter": "python",
   "pygments_lexer": "ipython3",
   "version": "3.9.12"
  },
  "orig_nbformat": 4,
  "vscode": {
   "interpreter": {
    "hash": "b0fa6594d8f4cbf19f97940f81e996739fb7646882a419484c72d19e05852a7e"
   }
  }
 },
 "nbformat": 4,
 "nbformat_minor": 2
}
