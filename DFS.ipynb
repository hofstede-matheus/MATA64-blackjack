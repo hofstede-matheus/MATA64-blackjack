# IA 2022.2 - BlackJack
import random

# regras:
# só existe carta de um nipe
# Ás vale 1 e não 1 ou 10

#Cards values

C_2 = 2
C_3 = 3
C_4 = 4
C_5 = 5
C_6 = 6
C_7 = 7
C_8 = 8
C_9 = 9
JACK = 10
QUEEN = 10
KING = 10
ACE = 1


print(ACE)

deck = [C_2, C_3, C_4, C_5, C_6, C_7, C_8, C_9, JACK, QUEEN, KING, ACE]

random.shuffle(deck)

print(deck)

hand = deck.pop();

print(hand)

print(deck)



