{
  "nbformat": 4,
  "nbformat_minor": 0,
  "metadata": {
    "colab": {
      "provenance": [],
      "include_colab_link": true
    },
    "kernelspec": {
      "name": "python3",
      "display_name": "Python 3"
    },
    "language_info": {
      "name": "python"
    }
  },
  "cells": [
    {
      "cell_type": "markdown",
      "metadata": {
        "id": "view-in-github",
        "colab_type": "text"
      },
      "source": [
        "<a href=\"https://colab.research.google.com/github/hofstede-matheus/MATA64-blackjack/blob/main/DFS.ipynb\" target=\"_parent\"><img src=\"https://colab.research.google.com/assets/colab-badge.svg\" alt=\"Open In Colab\"/></a>"
      ]
    },
    {
      "cell_type": "code",
      "execution_count": 6,
      "metadata": {
        "colab": {
          "base_uri": "https://localhost:8080/"
        },
        "id": "HEdgnOGK9INR",
        "outputId": "e7c1f8c8-b58a-4178-cd09-3835e939f492"
      },
      "outputs": [
        {
          "output_type": "stream",
          "name": "stdout",
          "text": [
            "1\n",
            "[7, 8, 4, 2, 6, 3, 10, 9, 1, 10, 5, 10]\n",
            "[10]\n",
            "[7, 8, 4, 2, 6, 3, 10, 9, 1, 10, 5]\n",
            "[10, 5]\n",
            "[7, 8, 4, 2, 6, 3, 10, 9, 1, 10]\n",
            "15\n",
            "6\n"
          ]
        }
      ],
      "source": [
        "# IA 2022.2 - BlackJack\n",
        "# decidir o próximo passo após pegar 2 cartas\n",
        "# decidir se dá pra dar mais um passo \n",
        "import random\n",
        "\n",
        "# regras:\n",
        "# só existe carta de um nipe\n",
        "# Ás vale 1 e não 1 ou 10\n",
        "\n",
        "# consts\n",
        "CARDS_TO_BUST = 21\n",
        "\n",
        "#Cards values\n",
        "\n",
        "C_2 = 2\n",
        "C_3 = 3\n",
        "C_4 = 4\n",
        "C_5 = 5\n",
        "C_6 = 6\n",
        "C_7 = 7\n",
        "C_8 = 8\n",
        "C_9 = 9\n",
        "JACK = 10\n",
        "QUEEN = 10\n",
        "KING = 10\n",
        "ACE = 1\n",
        "\n",
        "\n",
        "print(ACE)\n",
        "\n",
        "deck = [C_2, C_3, C_4, C_5, C_6, C_7, C_8, C_9, JACK, QUEEN, KING, ACE]\n",
        "hand = []\n",
        "\n",
        "random.shuffle(deck)\n",
        "\n",
        "print(deck)\n",
        "\n",
        "# pega a primeira carta\n",
        "picked_card = deck.pop()\n",
        "hand.append(picked_card)\n",
        "print(hand)\n",
        "print(deck)\n",
        "\n",
        "picked_card = deck.pop()\n",
        "hand.append(picked_card)\n",
        "print(hand)\n",
        "print(deck)\n",
        "\n",
        "print(hand[0] + hand[1])\n",
        "\n",
        "until_bust = CARDS_TO_BUST - (hand[0] + hand[1]);\n",
        "\n",
        "print(until_bust)\n",
        "\n",
        "# faz a arvore com o estado atual\n",
        "\n"
      ]
    }
  ]
}