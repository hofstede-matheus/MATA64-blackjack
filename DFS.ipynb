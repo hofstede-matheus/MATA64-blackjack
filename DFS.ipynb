{
  "nbformat": 4,
  "nbformat_minor": 0,
  "metadata": {
    "colab": {
      "provenance": [],
      "include_colab_link": true
    },
    "kernelspec": {
      "name": "python3",
      "display_name": "Python 3"
    },
    "language_info": {
      "name": "python"
    }
  },
  "cells": [
    {
      "cell_type": "markdown",
      "metadata": {
        "id": "view-in-github",
        "colab_type": "text"
      },
      "source": [
        "<a href=\"https://colab.research.google.com/github/hofstede-matheus/MATA64-blackjack/blob/main/DFS.ipynb\" target=\"_parent\"><img src=\"https://colab.research.google.com/assets/colab-badge.svg\" alt=\"Open In Colab\"/></a>"
      ]
    },
    {
      "cell_type": "code",
      "source": [
        "%pip install anytree"
      ],
      "metadata": {
        "colab": {
          "base_uri": "https://localhost:8080/"
        },
        "id": "n0q9q7DkXeHi",
        "outputId": "6dba6888-f3fd-4e03-adc6-15af2a7530b9"
      },
      "execution_count": 517,
      "outputs": [
        {
          "output_type": "stream",
          "name": "stdout",
          "text": [
            "Looking in indexes: https://pypi.org/simple, https://us-python.pkg.dev/colab-wheels/public/simple/\n",
            "Requirement already satisfied: anytree in /usr/local/lib/python3.7/dist-packages (2.8.0)\n",
            "Requirement already satisfied: six>=1.9.0 in /usr/local/lib/python3.7/dist-packages (from anytree) (1.15.0)\n"
          ]
        }
      ]
    },
    {
      "cell_type": "code",
      "source": [
        "import random\n",
        "from anytree import Node, RenderTree\n",
        "from anytree.exporter import DotExporter"
      ],
      "metadata": {
        "id": "KbLi6fWGYKwx"
      },
      "execution_count": 518,
      "outputs": []
    },
    {
      "cell_type": "code",
      "source": [
        "# IA 2022.2 - BlackJack\n",
        "# decidir o próximo passo após pegar 2 cartas\n",
        "# decidir se dá pra dar mais um passo \n",
        "\n",
        "# regras:\n",
        "# só existe carta de um nipe\n",
        "# Ás vale 1 e não 1 ou 10"
      ],
      "metadata": {
        "id": "vbNY8dTPYOrU"
      },
      "execution_count": 519,
      "outputs": []
    },
    {
      "cell_type": "code",
      "source": [
        "\n",
        "deck = [C_2, C_3, C_4, C_5, C_6, C_7, C_8, C_9, JACK, QUEEN, KING, ACE]\n",
        "hand = []\n",
        "\n",
        "random.shuffle(deck)\n",
        "print(\"deck\", deck)"
      ],
      "metadata": {
        "colab": {
          "base_uri": "https://localhost:8080/"
        },
        "id": "1ynHfWx-Yf6t",
        "outputId": "b9c986e8-3363-475f-b94a-fb625b931be2"
      },
      "execution_count": 520,
      "outputs": [
        {
          "output_type": "stream",
          "name": "stdout",
          "text": [
            "deck [2, 9, 10, 8, 1, 5, 4, 7, 6, 10, 10, 3]\n"
          ]
        }
      ]
    },
    {
      "cell_type": "code",
      "source": [
        "# consts\n",
        "CARDS_TO_BUST = 21\n",
        "\n",
        "#cards values\n",
        "C_2 = 2\n",
        "C_3 = 3\n",
        "C_4 = 4\n",
        "C_5 = 5\n",
        "C_6 = 6\n",
        "C_7 = 7\n",
        "C_8 = 8\n",
        "C_9 = 9\n",
        "JACK = 10\n",
        "QUEEN = 10\n",
        "KING = 10\n",
        "ACE = 1\n",
        "\n",
        "\n",
        "#aux functions\n",
        "def printTree(tree):\n",
        "  for pre, fill, node in RenderTree(tree):\n",
        "    print(\"%s%s\" % (pre, node.name))\n",
        "\n",
        "\n",
        "def buildTree(array):\n",
        "  currentPos = 1\n",
        "  root = Node(array[0], parent=None)\n",
        "  currentNode = root\n",
        "  leftNode = None\n",
        "  rightNode = None\n",
        "  nodeCount = 0\n",
        "  for num in array:\n",
        "    if currentPos == len(array) - 1:\n",
        "      currentNode = Node(array[currentPos], parent=currentNode)\n",
        "      break\n",
        "    else:\n",
        "      if nodeCount == 0:\n",
        "        rightNode = Node(array[currentPos], parent=currentNode)\n",
        "        currentPos += 1\n",
        "        nodeCount = 1\n",
        "      elif nodeCount == 1:\n",
        "        leftNode = Node(array[currentPos], parent=currentNode)\n",
        "        nodeCount = 0\n",
        "        currentPos += 1\n",
        "        if random.randint(1, 10) % 2 == 0:\n",
        "          currentNode = rightNode\n",
        "        else:\n",
        "          currentNode = leftNode\n",
        "  return root\n",
        "\n",
        "def dfs(visited, graph, node, until_bust):\n",
        "    global higher_value_but_not_bust\n",
        "    if node not in visited:\n",
        "        print(\"node.name\", node.name)\n",
        "        # print(\"visited\", visited)\n",
        "        if until_bust - node.name >= 0 and node.name >= higher_value_but_not_bust:\n",
        "          print(\"valid\", node.name)\n",
        "          print(\"higher_value_but_not_bust\", higher_value_but_not_bust)\n",
        "          higher_value_but_not_bust = node.name\n",
        "          print(\"best card to pick without busting\", higher_value_but_not_bust)\n",
        "        visited.add(node)\n",
        "        for neighbour in node.children:\n",
        "            dfs(visited, graph, neighbour, until_bust)"
      ],
      "metadata": {
        "id": "SkzpipwCYUHX"
      },
      "execution_count": 521,
      "outputs": []
    },
    {
      "cell_type": "code",
      "execution_count": 522,
      "metadata": {
        "colab": {
          "base_uri": "https://localhost:8080/"
        },
        "id": "HEdgnOGK9INR",
        "outputId": "e7c6514c-f187-4a54-fea1-271a820c82ef"
      },
      "outputs": [
        {
          "output_type": "stream",
          "name": "stdout",
          "text": [
            "hand [3]\n",
            "deck [2, 9, 10, 8, 1, 5, 4, 7, 6, 10, 10]\n",
            "hand [3, 10]\n",
            "deck [2, 9, 10, 8, 1, 5, 4, 7, 6, 10]\n",
            "until_bust 8\n",
            "2\n",
            "├── 9\n",
            "└── 10\n",
            "    ├── 8\n",
            "    │   ├── 5\n",
            "    │   │   ├── 7\n",
            "    │   │   │   └── 10\n",
            "    │   │   └── 6\n",
            "    │   └── 4\n",
            "    └── 1\n",
            "node.name 2\n",
            "valid 2\n",
            "higher_value_but_not_bust -1\n",
            "best card to pick without busting 2\n",
            "node.name 9\n",
            "node.name 10\n",
            "node.name 8\n",
            "valid 8\n",
            "higher_value_but_not_bust 2\n",
            "best card to pick without busting 8\n",
            "node.name 5\n",
            "node.name 7\n",
            "node.name 10\n",
            "node.name 6\n",
            "node.name 4\n",
            "node.name 1\n"
          ]
        }
      ],
      "source": [
        "# pega a primeira carta\n",
        "picked_card = deck.pop()\n",
        "hand.append(picked_card)\n",
        "print(\"hand\", hand)\n",
        "print(\"deck\", deck)\n",
        "\n",
        "# pega a segunda carta\n",
        "picked_card = deck.pop()\n",
        "hand.append(picked_card)\n",
        "print(\"hand\", hand)\n",
        "print(\"deck\", deck)\n",
        "\n",
        "until_bust = CARDS_TO_BUST - (hand[0] + hand[1])\n",
        "\n",
        "print(\"until_bust\", until_bust)\n",
        "\n",
        "# faz a arvore com o estado atual\n",
        "\n",
        "tree = buildTree(deck)\n",
        "printTree(tree)\n",
        "\n",
        "\n",
        "higher_value_but_not_bust = -1\n",
        "\n",
        "dfs(set(), tree, tree, until_bust)"
      ]
    }
  ]
}