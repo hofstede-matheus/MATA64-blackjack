{
  "nbformat": 4,
  "nbformat_minor": 0,
  "metadata": {
    "colab": {
      "provenance": []
    },
    "kernelspec": {
      "name": "python3",
      "display_name": "Python 3"
    },
    "language_info": {
      "name": "python"
    }
  },
  "cells": [
    {
      "cell_type": "code",
      "execution_count": null,
      "metadata": {
        "colab": {
          "base_uri": "https://localhost:8080/"
        },
        "id": "HEdgnOGK9INR",
        "outputId": "812f9969-67ec-4074-d835-48048d010de7"
      },
      "outputs": [
        {
          "output_type": "stream",
          "name": "stdout",
          "text": [
            "1\n",
            "[6, 7, 2, 10, 9, 3, 4, 10, 8, 5, 1, 10]\n",
            "10\n",
            "[6, 7, 2, 10, 9, 3, 4, 10, 8, 5, 1]\n"
          ]
        }
      ],
      "source": [
        "# IA 2022.2 - BlackJack\n",
        "import random\n",
        "\n",
        "# regras:\n",
        "# só existe carta de um nipe\n",
        "# Ás vale 1 e não 1 ou 10\n",
        "\n",
        "#Cards values\n",
        "\n",
        "C_2 = 2\n",
        "C_3 = 3\n",
        "C_4 = 4\n",
        "C_5 = 5\n",
        "C_6 = 6\n",
        "C_7 = 7\n",
        "C_8 = 8\n",
        "C_9 = 9\n",
        "JACK = 10\n",
        "QUEEN = 10\n",
        "KING = 10\n",
        "ACE = 1\n",
        "\n",
        "\n",
        "print(ACE)\n",
        "\n",
        "deck = [C_2, C_3, C_4, C_5, C_6, C_7, C_8, C_9, JACK, QUEEN, KING, ACE]\n",
        "\n",
        "random.shuffle(deck)\n",
        "\n",
        "print(deck)\n",
        "\n",
        "hand = deck.pop();\n",
        "\n",
        "print(hand)\n",
        "\n",
        "print(deck)\n",
        "\n",
        "\n",
        "\n"
      ]
    }
  ]
}